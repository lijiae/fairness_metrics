{
 "cells": [
  {
   "cell_type": "code",
   "execution_count": 49,
   "metadata": {},
   "outputs": [],
   "source": [
    "import numpy as np\n",
    "import pandas as pd\n",
    "import os"
   ]
  },
  {
   "cell_type": "code",
   "execution_count": 50,
   "metadata": {},
   "outputs": [],
   "source": [
    "np_path=\"/home/lijia/codes/202211/sage/result/8615-id-42-np\"\n",
    "group_attrs=['Gender', 'Age', 'Race', 'Rosy_Cheeks', 'Shiny_Skin', 'Bangs', \n",
    "             'Sideburns', 'HairColor', 'Beard', 'FaceShape', 'Double_Chin', 'High_Cheekbones', \n",
    "             'Chubby', 'Forehead_visible', 'Brown_Eyes', 'Bags_Under_Eyes', 'Bushy_Eyebrows', \n",
    "             'Arched_Eyebrows', 'Mouth_Closed', 'Smiling', 'Big_Lips', 'NoseType', \n",
    "             'Heavy_Makeup', 'Eyeglasses', 'Wearing_Lipstick', 'Attractive']\n",
    "\n",
    "feature_groups = {'Gender': ['Male','Female'],\n",
    " 'Age':['Young', 'Middle_Aged', 'Senior'],\n",
    " 'Race':['Asian','White','Black'],\n",
    " 'Rosy_Cheeks': ['Rosy_Cheeks'],\n",
    " 'Shiny_Skin': ['Shiny_Skin'],\n",
    " 'Bangs':['Bangs'],\n",
    " 'Sideburns':['Sideburns'],\n",
    " 'HairColor': ['Black_Hair', 'Blond_Hair', 'Brown_Hair', 'Gray_Hair'],\n",
    " 'Beard': ['No_Beard','Mustache','5_o_Clock_Shadow','Goatee'],\n",
    " 'FaceShape': ['Oval_Face', 'Square_Face', 'Round_Face'],\n",
    " 'Double_Chin': ['Double_Chin'],\n",
    " 'High_Cheekbones': ['High_Cheekbones'],\n",
    " 'Chubby': ['Chubby'],\n",
    " 'Forehead_visible': ['Obstructed_Forehead','Fully_Visible_Forehead'],\n",
    " 'Brown_Eyes':['Brown_Eyes'],\n",
    " 'Bags_Under_Eyes':['Bags_Under_Eyes'],\n",
    " 'Bushy_Eyebrows':['Bushy_Eyebrows'],\n",
    " 'Arched_Eyebrows':['Arched_Eyebrows'],\n",
    " 'Mouth_Closed':['Mouth_Closed'],\n",
    " 'Smiling':['Smiling'],\n",
    " 'Big_Lips':['Big_Lips'],\n",
    " 'NoseType': ['Big_Nose','Pointy_Nose'],\n",
    " 'Heavy_Makeup': ['Heavy_Makeup'],\n",
    " 'Eyeglasses': ['Eyeglasses'],\n",
    " 'Wearing_Lipstick': ['Wearing_Lipstick'],\n",
    " 'Attractive': ['Attractive']}\n",
    "\n",
    "target_attributions=['Male','Female','Young', 'Middle_Aged', 'Senior','Asian','White','Black','Rosy_Cheeks',\n",
    "                'Shiny_Skin','Bangs','Sideburns',\n",
    "                'Black_Hair','Blond_Hair','Brown_Hair','Gray_Hair','No_Beard','Mustache',\n",
    "                '5_o_Clock_Shadow','Goatee','Oval_Face','Square_Face','Round_Face','Double_Chin',\n",
    "                'High_Cheekbones','Chubby','Obstructed_Forehead', 'Fully_Visible_Forehead','Brown_Eyes',\n",
    "                'Bags_Under_Eyes','Bushy_Eyebrows','Arched_Eyebrows','Mouth_Closed','Smiling',\n",
    "                'Big_Lips','Big_Nose','Pointy_Nose','Heavy_Makeup',\n",
    "                'Wearing_Lipstick','Eyeglasses','Attractive']"
   ]
  },
  {
   "cell_type": "code",
   "execution_count": 51,
   "metadata": {},
   "outputs": [],
   "source": [
    "test_pre=pd.read_csv(\"/home/lsf/桌面/lijia/face-recognition/data/test_result_41.csv\")[[\"Filename\",\"0\"]]\n",
    "test_gt=pd.read_csv(\"/exdata/data/vggface2/test_id_sample.csv\")\n",
    "maad_file=pd.read_csv(\"/exdata/data/vggface2/maad_id.csv\").drop([\"id\"],axis=1)\n",
    "pre_result=test_gt.merge(test_pre,on=\"Filename\")\n",
    "pre_result[\"pre_result\"]=pre_result[\"id\"]==pre_result[\"0\"]\n",
    "pre_result=pre_result.drop([\"id\",\"0\"],axis=1)\n",
    "pre_result=pre_result.merge(maad_file,on=\"Filename\")[[\"Filename\",\"pre_result\"]+target_attributions]\n"
   ]
  },
  {
   "cell_type": "code",
   "execution_count": 52,
   "metadata": {},
   "outputs": [
    {
     "name": "stdout",
     "output_type": "stream",
     "text": [
      "{'HairColor': 0.8424888499115728, 'Beard': 0.601511337725717, 'Race': 0.5818597741083427, 'Forehead_visible': 0.5529543395910371, 'Age': 0.5505088136032509, 'NoseType': 0.4494370128317275, 'FaceShape': 0.4221940637482368, 'Gender': 0.3419755719269145, 'Bushy_Eyebrows': 0.28418640341010815, 'Brown_Eyes': 0.2841340966120544, 'Big_Lips': 0.26599301942389025, 'Arched_Eyebrows': 0.2628840374137106, 'Eyeglasses': 0.26230918429337885, 'Smiling': 0.2584343546704193, 'Shiny_Skin': 0.25704147270986044, 'Bangs': 0.24711719271632315, 'Mouth_Closed': 0.24696221405329985, 'Bags_Under_Eyes': 0.2368655501408108, 'High_Cheekbones': 0.2251373676560469, 'Sideburns': 0.22237071461772337, 'Chubby': 0.21112268135574275, 'Double_Chin': 0.2056447816548898, 'Attractive': 0.18083358355216764, 'Wearing_Lipstick': 0.15212123989929174, 'Heavy_Makeup': 0.14811179183004072, 'Rosy_Cheeks': 0.09125087237070967}\n"
     ]
    }
   ],
   "source": [
    "# 计算属性影响力\n",
    "names=os.listdir(np_path)\n",
    "scores_list=[]\n",
    "for name in names:\n",
    "    scores_list.append(np.load(os.path.join(np_path,name)))\n",
    "scores_np=np.array(scores_list)\n",
    "scores_np_abs=np.abs(scores_np)\n",
    "mean_score=scores_np_abs.mean(axis=0)\n",
    "sorted_id=sorted(range(len(mean_score)),key=lambda k:mean_score[k],reverse=True)\n",
    "concept_dict={}\n",
    "for id in sorted_id:\n",
    "    concept_dict[group_attrs[id]]=mean_score[id]\n",
    "print(concept_dict)"
   ]
  },
  {
   "cell_type": "code",
   "execution_count": 59,
   "metadata": {},
   "outputs": [
    {
     "name": "stderr",
     "output_type": "stream",
     "text": [
      "/home/lijia/anaconda3/envs/sagefc/lib/python3.6/site-packages/ipykernel_launcher.py:14: UserWarning: Boolean Series key will be reindexed to match DataFrame index.\n",
      "  \n",
      "/home/lijia/anaconda3/envs/sagefc/lib/python3.6/site-packages/ipykernel_launcher.py:14: UserWarning: Boolean Series key will be reindexed to match DataFrame index.\n",
      "  \n",
      "/home/lijia/anaconda3/envs/sagefc/lib/python3.6/site-packages/ipykernel_launcher.py:14: UserWarning: Boolean Series key will be reindexed to match DataFrame index.\n",
      "  \n",
      "/home/lijia/anaconda3/envs/sagefc/lib/python3.6/site-packages/ipykernel_launcher.py:14: UserWarning: Boolean Series key will be reindexed to match DataFrame index.\n",
      "  \n",
      "/home/lijia/anaconda3/envs/sagefc/lib/python3.6/site-packages/ipykernel_launcher.py:14: UserWarning: Boolean Series key will be reindexed to match DataFrame index.\n",
      "  \n",
      "/home/lijia/anaconda3/envs/sagefc/lib/python3.6/site-packages/ipykernel_launcher.py:14: UserWarning: Boolean Series key will be reindexed to match DataFrame index.\n",
      "  \n",
      "/home/lijia/anaconda3/envs/sagefc/lib/python3.6/site-packages/ipykernel_launcher.py:14: UserWarning: Boolean Series key will be reindexed to match DataFrame index.\n",
      "  \n",
      "/home/lijia/anaconda3/envs/sagefc/lib/python3.6/site-packages/ipykernel_launcher.py:14: UserWarning: Boolean Series key will be reindexed to match DataFrame index.\n",
      "  \n",
      "/home/lijia/anaconda3/envs/sagefc/lib/python3.6/site-packages/ipykernel_launcher.py:14: UserWarning: Boolean Series key will be reindexed to match DataFrame index.\n",
      "  \n",
      "/home/lijia/anaconda3/envs/sagefc/lib/python3.6/site-packages/ipykernel_launcher.py:14: UserWarning: Boolean Series key will be reindexed to match DataFrame index.\n",
      "  \n",
      "/home/lijia/anaconda3/envs/sagefc/lib/python3.6/site-packages/ipykernel_launcher.py:14: UserWarning: Boolean Series key will be reindexed to match DataFrame index.\n",
      "  \n",
      "/home/lijia/anaconda3/envs/sagefc/lib/python3.6/site-packages/ipykernel_launcher.py:14: UserWarning: Boolean Series key will be reindexed to match DataFrame index.\n",
      "  \n",
      "/home/lijia/anaconda3/envs/sagefc/lib/python3.6/site-packages/ipykernel_launcher.py:14: UserWarning: Boolean Series key will be reindexed to match DataFrame index.\n",
      "  \n",
      "/home/lijia/anaconda3/envs/sagefc/lib/python3.6/site-packages/ipykernel_launcher.py:14: UserWarning: Boolean Series key will be reindexed to match DataFrame index.\n",
      "  \n",
      "/home/lijia/anaconda3/envs/sagefc/lib/python3.6/site-packages/ipykernel_launcher.py:14: UserWarning: Boolean Series key will be reindexed to match DataFrame index.\n",
      "  \n"
     ]
    },
    {
     "name": "stdout",
     "output_type": "stream",
     "text": [
      "{'Black_Hair': 0.81930825093341, 'Blond_Hair': 0.8259823576583801, 'Brown_Hair': 0.8120026269025729, 'Gray_Hair': 0.9000490287240698, 'No_Beard': 0.8116818203455991, 'Mustache': 0.8358585858585859, '5_o_Clock_Shadow': 0.8534126630454419, 'Goatee': 0.9037585421412301, 'Asian': 0.760430231997299, 'White': 0.8401373747963238, 'Black': 0.8193916349809885, 'Obstructed_Forehead': 0.7283008730691739, 'Fully_Visible_Forehead': 0.8545364688439521, 'Young': 0.8153152586441886, 'Middle_Aged': 0.8749346517498394, 'Senior': 0.8908814214617694, 'Big_Nose': 0.8491700417602249, 'Pointy_Nose': 0.8350632233020958, 'Oval_Face': 0.8294788019358148, 'Square_Face': 0.8505926484402037, 'Round_Face': 0.6213592233009708, 'Male': 0.8377228251776935, 'Female': 0.8142121347120292, 'Bushy_Eyebrows': 0.8594208238154889, 'Brown_Eyes': 0.8080912275592016, 'Big_Lips': 0.8140403661926147, 'Arched_Eyebrows': 0.8411976462443752, 'Eyeglasses': 0.7895613111973235, 'Smiling': 0.8670911094103498, 'Shiny_Skin': 0.8433479301160218, 'Bangs': 0.7850131529500188, 'Mouth_Closed': 0.8330119844240294, 'Bags_Under_Eyes': 0.8565612475238402, 'High_Cheekbones': 0.8586853047211355, 'Sideburns': 0.8417226487523992, 'Chubby': 0.8835165411758533, 'Double_Chin': 0.8825915908532087, 'Attractive': 0.8445725730945637, 'Wearing_Lipstick': 0.8345821810299724, 'Heavy_Makeup': 0.8453235295689301, 'Rosy_Cheeks': 0.9748675246025738}\n",
      "{'no_HairColor': 0.8250962049366416, 'no_Beard': 0.8589927541430519, 'no_Race': 0.8094676628531403, 'no_Forehead_visible': 0.8112230352561056, 'no_Age': 0.8166205413182795, 'no_NoseType': 0.8044416960180679, 'no_FaceShape': 0.7942640570200249, 'no_Bushy_Eyebrows': 0.8130528645506975, 'no_Brown_Eyes': 0.8411738339441559, 'no_Big_Lips': 0.8337432398925084, 'no_Arched_Eyebrows': 0.8242003543377329, 'no_Eyeglasses': 0.8324813569079386, 'no_Smiling': 0.8189902970004432, 'no_Shiny_Skin': 0.8248490947624781, 'no_Bangs': 0.8332407657098567, 'no_Mouth_Closed': 0.8279038373401109, 'no_Bags_Under_Eyes': 0.8172121372730886, 'no_High_Cheekbones': 0.8173857717483906, 'no_Sideburns': 0.8213387039676997, 'no_Chubby': 0.8204444589835018, 'no_Double_Chin': 0.8160183378852907, 'no_Attractive': 0.8220535608950411, 'no_Wearing_Lipstick': 0.8247650407844582, 'no_Heavy_Makeup': 0.820791328752188, 'no_Rosy_Cheeks': 0.826555847910291}\n"
     ]
    }
   ],
   "source": [
    "plt_result_plus={}\n",
    "plt_result_min={}\n",
    "for n,s in concept_dict.items():\n",
    "    sub_attrs=feature_groups[n]\n",
    "    sub_len=len(sub_attrs)\n",
    "    \n",
    "    for attr in sub_attrs:\n",
    "        attr_count=pre_result[pre_result[attr]==1][attr].sum()\n",
    "        attr_acc=pre_result[pre_result[attr]==1]['pre_result'].sum()\n",
    "        plt_result_plus[attr]=attr_acc/attr_count\n",
    "        \n",
    "    other=pre_result\n",
    "    for attr in sub_attrs:\n",
    "        other=other[pre_result[attr]==0]\n",
    "    other_count=other['pre_result'].sum()\n",
    "    if(other.shape[0]==0):\n",
    "        continue\n",
    "    plt_result_min[\"no_\"+n]=other_count/other.shape[0]\n",
    "\n",
    "print(plt_result_plus)\n",
    "print(plt_result_min)\n",
    "        \n",
    "    "
   ]
  },
  {
   "cell_type": "code",
   "execution_count": 60,
   "metadata": {},
   "outputs": [
    {
     "name": "stdout",
     "output_type": "stream",
     "text": [
      "43\n"
     ]
    },
    {
     "ename": "NameError",
     "evalue": "name 'abc' is not defined",
     "output_type": "error",
     "traceback": [
      "\u001b[0;31m---------------------------------------------------------------------------\u001b[0m",
      "\u001b[0;31mNameError\u001b[0m                                 Traceback (most recent call last)",
      "\u001b[0;32m<ipython-input-60-c3869e7344b7>\u001b[0m in \u001b[0;36m<module>\u001b[0;34m\u001b[0m\n\u001b[1;32m      3\u001b[0m \u001b[0mtotal\u001b[0m\u001b[0;34m=\u001b[0m\u001b[0mpre_result\u001b[0m\u001b[0;34m.\u001b[0m\u001b[0mshape\u001b[0m\u001b[0;34m[\u001b[0m\u001b[0;36m1\u001b[0m\u001b[0;34m]\u001b[0m\u001b[0;34m\u001b[0m\u001b[0;34m\u001b[0m\u001b[0m\n\u001b[1;32m      4\u001b[0m \u001b[0mprint\u001b[0m\u001b[0;34m(\u001b[0m\u001b[0mtotal\u001b[0m\u001b[0;34m)\u001b[0m\u001b[0;34m\u001b[0m\u001b[0;34m\u001b[0m\u001b[0m\n\u001b[0;32m----> 5\u001b[0;31m \u001b[0mprint\u001b[0m\u001b[0;34m(\u001b[0m\u001b[0mabc\u001b[0m\u001b[0;34m)\u001b[0m\u001b[0;34m\u001b[0m\u001b[0;34m\u001b[0m\u001b[0m\n\u001b[0m\u001b[1;32m      6\u001b[0m \u001b[0;32mfor\u001b[0m \u001b[0mn\u001b[0m\u001b[0;34m,\u001b[0m\u001b[0ms\u001b[0m \u001b[0;32min\u001b[0m \u001b[0mconcept_dict\u001b[0m\u001b[0;34m.\u001b[0m\u001b[0mitems\u001b[0m\u001b[0;34m(\u001b[0m\u001b[0;34m)\u001b[0m\u001b[0;34m:\u001b[0m\u001b[0;34m\u001b[0m\u001b[0;34m\u001b[0m\u001b[0m\n\u001b[1;32m      7\u001b[0m     \u001b[0msub_attrs\u001b[0m\u001b[0;34m=\u001b[0m\u001b[0mfeature_groups\u001b[0m\u001b[0;34m[\u001b[0m\u001b[0mn\u001b[0m\u001b[0;34m]\u001b[0m\u001b[0;34m\u001b[0m\u001b[0;34m\u001b[0m\u001b[0m\n",
      "\u001b[0;31mNameError\u001b[0m: name 'abc' is not defined"
     ]
    }
   ],
   "source": [
    "ori_plus={}\n",
    "ori_min={}\n",
    "total=pre_result.shape[0]\n",
    "for n,s in concept_dict.items():\n",
    "    sub_attrs=feature_groups[n]\n",
    "    sub_len=len(sub_attrs)\n",
    "    \n",
    "    for attr in sub_attrs:\n",
    "        attr_count=pre_result[pre_result[attr]==1][attr].sum()\n",
    "        # attr_acc=pre_result[pre_result[attr]==1]['pre_result'].sum()\n",
    "        plt_result_plus[attr]=attr_acc/attr_count\n",
    "        \n",
    "    other=pre_result\n",
    "    for attr in sub_attrs:\n",
    "        other=other[pre_result[attr]==0]\n",
    "    other_count=other['pre_result'].sum()\n",
    "    if(other.shape[0]==0):\n",
    "        continue\n",
    "    plt_result_min[\"no_\"+n]=other_count/other.shape[0]\n",
    "\n",
    "print(plt_result_plus)\n",
    "print(plt_result_min)"
   ]
  },
  {
   "cell_type": "markdown",
   "metadata": {},
   "source": [
    "绘制图像"
   ]
  },
  {
   "cell_type": "code",
   "execution_count": 56,
   "metadata": {},
   "outputs": [],
   "source": [
    "import matplotlib.pyplot as plt"
   ]
  },
  {
   "cell_type": "code",
   "execution_count": 54,
   "metadata": {},
   "outputs": [
    {
     "ename": "SyntaxError",
     "evalue": "unexpected EOF while parsing (<ipython-input-54-6d42f23011db>, line 2)",
     "output_type": "error",
     "traceback": [
      "\u001b[0;36m  File \u001b[0;32m\"<ipython-input-54-6d42f23011db>\"\u001b[0;36m, line \u001b[0;32m2\u001b[0m\n\u001b[0;31m    \u001b[0m\n\u001b[0m    ^\u001b[0m\n\u001b[0;31mSyntaxError\u001b[0m\u001b[0;31m:\u001b[0m unexpected EOF while parsing\n"
     ]
    }
   ],
   "source": []
  }
 ],
 "metadata": {
  "kernelspec": {
   "display_name": "Python 3.8.13 ('cbm')",
   "language": "python",
   "name": "python3"
  },
  "language_info": {
   "codemirror_mode": {
    "name": "ipython",
    "version": 3
   },
   "file_extension": ".py",
   "mimetype": "text/x-python",
   "name": "python",
   "nbconvert_exporter": "python",
   "pygments_lexer": "ipython3",
   "version": "3.8.13"
  },
  "orig_nbformat": 4,
  "vscode": {
   "interpreter": {
    "hash": "e4a8380ee32f1efe261f6cc4f06072e3d7e815b815ebf209ef538a1de5fdc893"
   }
  }
 },
 "nbformat": 4,
 "nbformat_minor": 2
}
